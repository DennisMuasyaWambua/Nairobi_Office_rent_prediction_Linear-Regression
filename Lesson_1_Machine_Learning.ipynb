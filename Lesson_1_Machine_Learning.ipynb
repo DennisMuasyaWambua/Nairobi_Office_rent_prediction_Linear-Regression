{
  "nbformat": 4,
  "nbformat_minor": 0,
  "metadata": {
    "colab": {
      "name": "Lesson 1:Machine Learning",
      "provenance": [],
      "authorship_tag": "ABX9TyOc7YYa2+ykPDBPmZ3O0Dt4",
      "include_colab_link": true
    },
    "kernelspec": {
      "name": "python3",
      "display_name": "Python 3"
    },
    "language_info": {
      "name": "python"
    }
  },
  "cells": [
    {
      "cell_type": "markdown",
      "metadata": {
        "id": "view-in-github",
        "colab_type": "text"
      },
      "source": [
        "<a href=\"https://colab.research.google.com/github/DennisMuasyaWambua/Nairobi_Office_rent_prediction_Linear-Regression/blob/main/Lesson_1_Machine_Learning.ipynb\" target=\"_parent\"><img src=\"https://colab.research.google.com/assets/colab-badge.svg\" alt=\"Open In Colab\"/></a>"
      ]
    },
    {
      "cell_type": "markdown",
      "source": [
        "# Nairobi Office rent prediction using Linear Regression\n"
      ],
      "metadata": {
        "id": "WKvtxjDgxZ1h"
      }
    },
    {
      "cell_type": "code",
      "source": [
        "import pandas as pd\n",
        "import numpy as np\n",
        "import random\n",
        "from scipy import stats\n",
        "import matplotlib.pyplot as plt"
      ],
      "metadata": {
        "id": "SVyg6SOXxjic"
      },
      "execution_count": null,
      "outputs": []
    },
    {
      "cell_type": "code",
      "source": [
        "office_rent = pd.read_csv(\"sample_data/offices1.csv\")\n",
        "print(office_rent)"
      ],
      "metadata": {
        "colab": {
          "base_uri": "https://localhost:8080/"
        },
        "id": "wTUoNxcFyCY0",
        "outputId": "d5375704-9bdf-46e1-ed9b-03775f0ee3f8"
      },
      "execution_count": null,
      "outputs": [
        {
          "output_type": "execute_result",
          "data": {
            "text/plain": [
              "array([1.74935296, 1.72671585, 1.0492025 , 1.10097989, 1.3573933 ,\n",
              "       1.0259306 , 1.31489187, 1.4029097 , 1.13167369, 1.34281266,\n",
              "       1.5136694 , 1.81716821, 1.32200566, 1.90076093, 1.81761361,\n",
              "       1.87205926, 1.21944071, 1.97148956, 1.86339444, 1.66559187])"
            ]
          },
          "metadata": {},
          "execution_count": 5
        }
      ]
    },
    {
      "cell_type": "code",
      "source": [
        "data = pd.DataFrame(office_rent)"
      ],
      "metadata": {
        "id": "JJVVTvzKVV4s"
      },
      "execution_count": null,
      "outputs": []
    },
    {
      "cell_type": "code",
      "source": [
        "#creating the graph for linear regression\n",
        "plt.scatter(data['office_size'],data['monthly_rent'])\n",
        "plt.title(\"Office size against monthly rent \")\n",
        "plt.xlabel(\"office size\")\n",
        "plt.ylabel(\"monthly rent\")\n",
        "plt.show()\n",
        "\n",
        "\n"
      ],
      "metadata": {
        "id": "g5hDV6g-F9Z-"
      },
      "execution_count": null,
      "outputs": []
    },
    {
      "cell_type": "code",
      "source": [
        "data = pd.DataFrame(office_rent)\n",
        "data['guessed_rent'] = np.random.randint(50,100,data.shape[0])"
      ],
      "metadata": {
        "id": "Qvl8DJO8y442"
      },
      "execution_count": null,
      "outputs": []
    },
    {
      "cell_type": "code",
      "source": [
        "print(data)"
      ],
      "metadata": {
        "id": "CylaDbsG_s1f"
      },
      "execution_count": null,
      "outputs": []
    },
    {
      "cell_type": "markdown",
      "source": [
        "**Linear regression using gradient descent**"
      ],
      "metadata": {
        "id": "0soSGhdS6x4e"
      }
    },
    {
      "cell_type": "code",
      "source": [
        "m=5\n",
        "c=10\n",
        "L=0.0001\n",
        "x = data['office_size']\n",
        "n = len(x)\n",
        "y = data['monthly_rent']\n",
        "for i in range(1000):\n",
        "  y_pred = m*x + c\n",
        "  print(y_pred)\n",
        "  d_m = (-2/n)*sum(x*(y-y_pred))\n",
        "  d_c = (-2/n)*sum(y-y_pred)\n",
        "  m=m-L*d_m\n",
        "  c=c=L*d_c\n",
        "print(m,c)\n"
      ],
      "metadata": {
        "id": "_wbCF_ox63p0"
      },
      "execution_count": null,
      "outputs": []
    },
    {
      "cell_type": "code",
      "source": [
        "office=m*100 + c\n",
        "print(office)\n"
      ],
      "metadata": {
        "id": "iS_7hlMkulUQ"
      },
      "execution_count": null,
      "outputs": []
    }
  ]
}